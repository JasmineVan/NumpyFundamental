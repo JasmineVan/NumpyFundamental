{
  "nbformat": 4,
  "nbformat_minor": 0,
  "metadata": {
    "colab": {
      "name": "51800128_TrinhVanThuong_Numpy.ipynb",
      "provenance": [],
      "collapsed_sections": [
        "JmOEkAzCkHQo",
        "ejF-VQCNUZ7N",
        "tt980JUCXaR2",
        "6tjOn7eGYX5N",
        "8AA-jNSOaqNd",
        "jyV0ocubdXQY",
        "8SqFKjRugiLG",
        "mkPcftg1glbH",
        "zZUdyk_ohon-",
        "KyTN5D2zk2BI",
        "J7NBTOu6mkw_",
        "B__Q4xmCoDrI",
        "DOIqK9YFqgQn",
        "YbMfb6KxtJIm",
        "CORDXYrbu-4w",
        "pGSVE36cvCR6",
        "twE4LhrIwgu5",
        "E0nQn9Bj2lhI",
        "ozw_7f1p36YR",
        "4RMlf6jb3-9T",
        "GGbLWeO14fsl",
        "B0Alh5h05FkH",
        "TDIUk9xP8WBJ",
        "P_3P2jQH--tg",
        "5G8IcfoCw1jH"
      ],
      "toc_visible": true,
      "authorship_tag": "ABX9TyMUboYUSia+siut5Xe9rQly",
      "include_colab_link": true
    },
    "kernelspec": {
      "name": "python3",
      "display_name": "Python 3"
    },
    "language_info": {
      "name": "python"
    }
  },
  "cells": [
    {
      "cell_type": "markdown",
      "metadata": {
        "id": "view-in-github",
        "colab_type": "text"
      },
      "source": [
        "<a href=\"https://colab.research.google.com/github/JasmineVan/NumpyFundamental/blob/main/51800128_TrinhVanThuong_Numpy.ipynb\" target=\"_parent\"><img src=\"https://colab.research.google.com/assets/colab-badge.svg\" alt=\"Open In Colab\"/></a>"
      ]
    },
    {
      "cell_type": "markdown",
      "source": [
        "#Giới thiệu thư viện Numpy"
      ],
      "metadata": {
        "id": "JmOEkAzCkHQo"
      }
    },
    {
      "cell_type": "markdown",
      "source": [
        "NumPy là một thư viện Python được sử dụng để làm việc với các mảng.\n",
        "Nó cũng có các chức năng để làm việc trong miền đại số tuyến tính.\n",
        "\n",
        "NumPy được tạo ra vào năm 2005 bởi Travis Oliphant. Nó là một thư viện mã nguồn mở và có thể sử dụng nó một cách tự do.\n",
        "\n",
        "NumPy là viết tắt của Numerical Python.\n",
        "\n",
        "NumPy nhằm mục đích cung cấp một đối tượng mảng nhanh hơn tới 50 lần so với Python truyền thống.\n",
        "\n",
        "Đối tượng mảng trong NumPy được gọi là ndarray, nó cung cấp rất nhiều hàm hỗ trợ giúp cho việc làm việc với ndarray trở nên rất dễ dàng.\n",
        "\n",
        "Mảng được sử dụng rất thường xuyên trong khoa học dữ liệu, nơi mà tốc độ và tài nguyên là rất quan trọng."
      ],
      "metadata": {
        "id": "G8A0PKOzTlXN"
      }
    },
    {
      "cell_type": "markdown",
      "source": [
        "#Thư viện Numpy"
      ],
      "metadata": {
        "id": "ejF-VQCNUZ7N"
      }
    },
    {
      "cell_type": "markdown",
      "source": [
        "##Cài đặt và sử dụng numpy:"
      ],
      "metadata": {
        "id": "tt980JUCXaR2"
      }
    },
    {
      "cell_type": "code",
      "execution_count": null,
      "metadata": {
        "id": "tO92DDl_S5OL"
      },
      "outputs": [],
      "source": [
        "#pip install numpy"
      ]
    },
    {
      "cell_type": "code",
      "source": [
        "import numpy as np\n",
        "print(np.__version__)"
      ],
      "metadata": {
        "colab": {
          "base_uri": "https://localhost:8080/"
        },
        "id": "f6MAwoXAXo1G",
        "outputId": "387886c8-b825-47da-987f-eeb82bdb54db"
      },
      "execution_count": null,
      "outputs": [
        {
          "output_type": "stream",
          "name": "stdout",
          "text": [
            "1.21.5\n"
          ]
        }
      ]
    },
    {
      "cell_type": "markdown",
      "source": [
        "##Khởi tạo:"
      ],
      "metadata": {
        "id": "6tjOn7eGYX5N"
      }
    },
    {
      "cell_type": "code",
      "source": [
        "#ndarray\n",
        "arr = np.array([1, 2, 3, 4, 5])\n",
        "print(\"Create n-d array\\n\", arr)"
      ],
      "metadata": {
        "colab": {
          "base_uri": "https://localhost:8080/"
        },
        "id": "ld-JNzJtYfMW",
        "outputId": "41f8aa54-e945-45b4-f59c-1d690d3fe188"
      },
      "execution_count": null,
      "outputs": [
        {
          "output_type": "stream",
          "name": "stdout",
          "text": [
            "Create n-d array\n",
            " [1 2 3 4 5]\n"
          ]
        }
      ]
    },
    {
      "cell_type": "code",
      "source": [
        "#1-d array\n",
        "arr = np.array([1, 2, 3, 4, 5])\n",
        "print(\"Create 1-d array\\n\", arr)"
      ],
      "metadata": {
        "colab": {
          "base_uri": "https://localhost:8080/"
        },
        "id": "HRLFodNdY0LW",
        "outputId": "037f6827-ecd8-45d0-bdcb-5c0899dec5e6"
      },
      "execution_count": null,
      "outputs": [
        {
          "output_type": "stream",
          "name": "stdout",
          "text": [
            "Create 1-d array\n",
            " [1 2 3 4 5]\n"
          ]
        }
      ]
    },
    {
      "cell_type": "code",
      "source": [
        "#2-d array\n",
        "arr = np.array([[1, 2, 3, 4, 5], [1, 2, 3, 4, 5]])\n",
        "print(\"Create 2-d array\\n\", arr)"
      ],
      "metadata": {
        "colab": {
          "base_uri": "https://localhost:8080/"
        },
        "id": "QQ3JSsBWZNGN",
        "outputId": "3ff0e18b-31de-4f40-e7fc-e63c7d5b5512"
      },
      "execution_count": null,
      "outputs": [
        {
          "output_type": "stream",
          "name": "stdout",
          "text": [
            "Create 2-d array\n",
            " [[1 2 3 4 5]\n",
            " [1 2 3 4 5]]\n"
          ]
        }
      ]
    },
    {
      "cell_type": "code",
      "source": [
        "#3-d array\n",
        "arr = np.array([[[1, 2, 3, 4, 5], [1, 2, 3, 4, 5]], [[1, 2, 3, 4, 5], [1, 2, 3, 4, 5]]])\n",
        "print(\"Create 3-d array\\n\", arr)"
      ],
      "metadata": {
        "colab": {
          "base_uri": "https://localhost:8080/"
        },
        "id": "PuUutvH3ZZPD",
        "outputId": "52652fd9-7555-4bcc-8538-716fd0548105"
      },
      "execution_count": null,
      "outputs": [
        {
          "output_type": "stream",
          "name": "stdout",
          "text": [
            "Create 3-d array\n",
            " [[[1 2 3 4 5]\n",
            "  [1 2 3 4 5]]\n",
            "\n",
            " [[1 2 3 4 5]\n",
            "  [1 2 3 4 5]]]\n"
          ]
        }
      ]
    },
    {
      "cell_type": "code",
      "source": [
        "#Xem số chiều của mảng\n",
        "a = np.array([1, 2, 3, 4, 5])\n",
        "b = np.array([[1, 2, 3, 4, 5], [1, 2, 3, 4, 5]])\n",
        "c = np.array([[[1, 2, 3, 4, 5], [1, 2, 3, 4, 5]], [[1, 2, 3, 4, 5], [1, 2, 3, 4, 5]]])\n",
        "\n",
        "print(a.ndim)\n",
        "print(b.ndim)\n",
        "print(c.ndim)"
      ],
      "metadata": {
        "colab": {
          "base_uri": "https://localhost:8080/"
        },
        "id": "5oColeOXZnxh",
        "outputId": "ee5a053d-5ea9-4c02-c969-3df1163b4b5c"
      },
      "execution_count": null,
      "outputs": [
        {
          "output_type": "stream",
          "name": "stdout",
          "text": [
            "1\n",
            "2\n",
            "3\n"
          ]
        }
      ]
    },
    {
      "cell_type": "code",
      "source": [
        "#Tạo mảng với số chiều mong muốn\n",
        "arr = np.array([1, 2, 3, 4], ndmin=5)\n",
        "print(arr)\n",
        "print('Number of dimensions:', arr.ndim)"
      ],
      "metadata": {
        "colab": {
          "base_uri": "https://localhost:8080/"
        },
        "id": "WKZzn7xUaWR_",
        "outputId": "5034399c-c34e-4e06-a8cf-d9aabfdaecea"
      },
      "execution_count": null,
      "outputs": [
        {
          "output_type": "stream",
          "name": "stdout",
          "text": [
            "[[[[[1 2 3 4]]]]]\n",
            "Number of dimensions: 5\n"
          ]
        }
      ]
    },
    {
      "cell_type": "code",
      "source": [
        "#Tạo mảng 0 với số phần tử mong muốn\n",
        "zeros = np.zeros(10)\n",
        "print(zeros)"
      ],
      "metadata": {
        "colab": {
          "base_uri": "https://localhost:8080/"
        },
        "id": "znRhwGSJ__Vq",
        "outputId": "090d35f5-121a-40e2-99dc-19f64539ab67"
      },
      "execution_count": null,
      "outputs": [
        {
          "output_type": "stream",
          "name": "stdout",
          "text": [
            "[0. 0. 0. 0. 0. 0. 0. 0. 0. 0.]\n"
          ]
        }
      ]
    },
    {
      "cell_type": "code",
      "source": [
        "#Tạo mảng 1 với số phần tử mong muốn\n",
        "ones = np.ones(10)\n",
        "print(ones)"
      ],
      "metadata": {
        "colab": {
          "base_uri": "https://localhost:8080/"
        },
        "id": "71vOpWPnALgp",
        "outputId": "78ea4360-c6c3-4abd-bc80-b4d465baf2af"
      },
      "execution_count": null,
      "outputs": [
        {
          "output_type": "stream",
          "name": "stdout",
          "text": [
            "[1. 1. 1. 1. 1. 1. 1. 1. 1. 1.]\n"
          ]
        }
      ]
    },
    {
      "cell_type": "code",
      "source": [
        "#Hàm arange(n) tạo mảng 1 chiều từ 0 đến n\n",
        "arr = np.arange(20)\n",
        "print(arr)"
      ],
      "metadata": {
        "colab": {
          "base_uri": "https://localhost:8080/"
        },
        "id": "qm5jvGdnC5lA",
        "outputId": "cda08556-e880-4e87-ac28-1cd8d15e979c"
      },
      "execution_count": null,
      "outputs": [
        {
          "output_type": "stream",
          "name": "stdout",
          "text": [
            "[ 0  1  2  3  4  5  6  7  8  9 10 11 12 13 14 15 16 17 18 19]\n"
          ]
        }
      ]
    },
    {
      "cell_type": "code",
      "source": [
        "#Tạo mảng 1 chiều với các phần tử có giá trị nguyên ngẫu nhiên từ 0 - 10, số lượng phần tử size\n",
        "arr = np.random.randint(low = 0, high = 10, size = 10)\n",
        "print(arr)"
      ],
      "metadata": {
        "colab": {
          "base_uri": "https://localhost:8080/"
        },
        "id": "LlbUJVsbDPeb",
        "outputId": "3214193c-dd14-45a3-a729-554268177b48"
      },
      "execution_count": null,
      "outputs": [
        {
          "output_type": "stream",
          "name": "stdout",
          "text": [
            "[6 5 2 9 5 7 4 9 1 6]\n"
          ]
        }
      ]
    },
    {
      "cell_type": "code",
      "source": [
        "#Tạo mảng 2 chiều với các phần tử có giá trị nguyên ngẫu nhiên, mỗi mảng gồm 3 mảng con có 10 phần tử\n",
        "arr = np.random.randint(10, size =(3, 10))\n",
        "print(arr)"
      ],
      "metadata": {
        "colab": {
          "base_uri": "https://localhost:8080/"
        },
        "id": "rzYklpsLDueJ",
        "outputId": "3c0f0d5b-9e37-45f1-dd2b-4562b94168d4"
      },
      "execution_count": null,
      "outputs": [
        {
          "output_type": "stream",
          "name": "stdout",
          "text": [
            "[[1 8 9 5 9 0 0 7 7 0]\n",
            " [9 7 1 3 0 3 6 6 1 0]\n",
            " [4 3 3 8 0 2 8 9 9 6]]\n"
          ]
        }
      ]
    },
    {
      "cell_type": "code",
      "source": [
        "#Tạo mảng 3 chiều với các phần tử có giá trị nguyên ngẫu nhiên từ 0 - 10, mỗi mảng gồm 2 mảng 2 chiều mỗi mảng gồm 2 mảng con 10 phần tử\n",
        "arr = np.random.randint(0, 10, (2, 2, 10))\n",
        "print(arr)\n"
      ],
      "metadata": {
        "colab": {
          "base_uri": "https://localhost:8080/"
        },
        "id": "AJY9QdzbE8nx",
        "outputId": "a511d3c0-dcdb-4f9b-c806-bf3781a86f75"
      },
      "execution_count": null,
      "outputs": [
        {
          "output_type": "stream",
          "name": "stdout",
          "text": [
            "[[[4 8 1 2 8 7 5 9 9 5]\n",
            "  [6 0 0 8 6 5 4 2 3 6]]\n",
            "\n",
            " [[1 5 3 0 6 6 4 1 7 8]\n",
            "  [2 6 3 0 1 1 3 4 2 7]]]\n"
          ]
        }
      ]
    },
    {
      "cell_type": "code",
      "source": [
        "#Tạo mảng 1 chiều với các phần tử có giá trị thực ngẫu nhiên, số lượng phần tử size\n",
        "arr = np.random.ranf(size=10)\n",
        "print(arr)"
      ],
      "metadata": {
        "colab": {
          "base_uri": "https://localhost:8080/"
        },
        "id": "nw7-oGLXGQ8J",
        "outputId": "68efdf9c-db79-4fef-90bc-e8785c837790"
      },
      "execution_count": null,
      "outputs": [
        {
          "output_type": "stream",
          "name": "stdout",
          "text": [
            "[0.24213134 0.92045956 0.31335022 0.2913246  0.89096227 0.58721532\n",
            " 0.45635957 0.88767961 0.64084876 0.57637046]\n"
          ]
        }
      ]
    },
    {
      "cell_type": "code",
      "source": [
        "#Tạo mảng 2 chiều với các phần tử có giá trị thực ngẫu nhiên gồm 2 mảng con mỗi mảng 3 phần tử\n",
        "arr = np.random.ranf(size =(2, 3))\n",
        "print(arr)"
      ],
      "metadata": {
        "colab": {
          "base_uri": "https://localhost:8080/"
        },
        "id": "4kGB51TeGxWq",
        "outputId": "4b272735-6e3b-4171-a341-293375d356b9"
      },
      "execution_count": null,
      "outputs": [
        {
          "output_type": "stream",
          "name": "stdout",
          "text": [
            "[[0.58682076 0.51323473 0.82487412]\n",
            " [0.48370505 0.59336785 0.01376343]]\n"
          ]
        }
      ]
    },
    {
      "cell_type": "code",
      "source": [
        "#Tạo mảng 3 chiều với các phần tử có giá trị thực ngẫu nhiên gồm 2 mảng 2 chiều gồm 3 con mỗi mảng 3 phần tử\n",
        "arr = np.random.ranf((2, 3, 3))\n",
        "print(arr)"
      ],
      "metadata": {
        "colab": {
          "base_uri": "https://localhost:8080/"
        },
        "id": "fPw4orY_GyJV",
        "outputId": "784a6e89-6031-4c50-f74d-955f2ee177d1"
      },
      "execution_count": null,
      "outputs": [
        {
          "output_type": "stream",
          "name": "stdout",
          "text": [
            "[[[0.88308781 0.51478029 0.45871248]\n",
            "  [0.50700233 0.4591955  0.92150857]\n",
            "  [0.60121007 0.59794937 0.71897937]]\n",
            "\n",
            " [[0.0182993  0.47515067 0.85821244]\n",
            "  [0.17019955 0.3117756  0.03094028]\n",
            "  [0.12489289 0.04359944 0.70170116]]]\n"
          ]
        }
      ]
    },
    {
      "cell_type": "markdown",
      "source": [
        "##Tham chiếu đến phần tử trong n-darray"
      ],
      "metadata": {
        "id": "8AA-jNSOaqNd"
      }
    },
    {
      "cell_type": "code",
      "source": [
        "#1-d array\n",
        "arr = np.array([1, 2, 3, 4, 5])\n",
        "print(arr[1])\n",
        "print(arr[:4])"
      ],
      "metadata": {
        "colab": {
          "base_uri": "https://localhost:8080/"
        },
        "id": "BurN5FwEatrO",
        "outputId": "82849472-d404-4873-d731-43f3e553f626"
      },
      "execution_count": null,
      "outputs": [
        {
          "output_type": "stream",
          "name": "stdout",
          "text": [
            "2\n",
            "[1 2 3 4]\n"
          ]
        }
      ]
    },
    {
      "cell_type": "code",
      "source": [
        "#2-d array\n",
        "arr = np.array([[1,2,3,4,5], [6,7,8,9,10]])\n",
        "print('1st element on 1st row: ', arr[0, 0])\n",
        "print('5th element on 2nd row: ', arr[1, 4])"
      ],
      "metadata": {
        "colab": {
          "base_uri": "https://localhost:8080/"
        },
        "id": "52kSrJC9bXlm",
        "outputId": "645d7900-a5e2-490f-e42c-56305d7adc04"
      },
      "execution_count": null,
      "outputs": [
        {
          "output_type": "stream",
          "name": "stdout",
          "text": [
            "1st element on 1st row:  1\n",
            "5th element on 2nd row:  10\n"
          ]
        }
      ]
    },
    {
      "cell_type": "code",
      "source": [
        "#3-d array\n",
        "arr = np.array([[[1,2,3,4,5], [6,7,8,9,10]], [[11,12,13,14,15], [16,17,18,19,20]]])\n",
        "\n",
        "print(\"the element which value is 1:\", arr[0, 0, 0])\n",
        "print(\"the element which value is 11:\", arr[1, 0, 0])"
      ],
      "metadata": {
        "colab": {
          "base_uri": "https://localhost:8080/"
        },
        "id": "ThbKc0z0b60Q",
        "outputId": "7de34f52-e07e-4b03-ea1a-4462f476bf48"
      },
      "execution_count": null,
      "outputs": [
        {
          "output_type": "stream",
          "name": "stdout",
          "text": [
            "the element which value is 1: 1\n",
            "the element which value is 11: 11\n"
          ]
        }
      ]
    },
    {
      "cell_type": "code",
      "source": [
        "#Lấy phần tử cuối cùng trong mỗi n-darray\n",
        "arr1 = np.array([1,2,3,4,5])\n",
        "print('Last element: ', arr1[-1])\n",
        "arr2 = np.array([[1,2,3,4,5], [6,7,8,9,10]])\n",
        "print('Last element from 2nd dim: ', arr2[1, -1])\n",
        "arr3 = np.array([[[1,2,3,4,5], [6,7,8,9,10]], [[11,12,13,14,15], [16,17,18,19,20]]])\n",
        "print('Last element from 2nd dim 2nd row: ', arr3[1, 1, -1])"
      ],
      "metadata": {
        "colab": {
          "base_uri": "https://localhost:8080/"
        },
        "id": "eYjYGNgWcfiO",
        "outputId": "c3070bc2-7d0d-4a14-e73f-f2d66ec654ab"
      },
      "execution_count": null,
      "outputs": [
        {
          "output_type": "stream",
          "name": "stdout",
          "text": [
            "Last element:  5\n",
            "Last element from 2nd dim:  10\n",
            "Last element from 2nd dim 2nd row:  20\n"
          ]
        }
      ]
    },
    {
      "cell_type": "markdown",
      "source": [
        "##Cắt mảng (Slice)\n",
        "\n"
      ],
      "metadata": {
        "id": "jyV0ocubdXQY"
      }
    },
    {
      "cell_type": "markdown",
      "source": [
        "###1-d array"
      ],
      "metadata": {
        "id": "8SqFKjRugiLG"
      }
    },
    {
      "cell_type": "code",
      "source": [
        "arr = np.array([1, 2, 3, 4, 5, 6, 7])\n",
        "#Từ index 1 đến index 5 (không bao gồm phần tử index 6)\n",
        "print(arr[1:5])\n",
        "#Từ index 4 đến hết (bao gồm cả phần tử index 4)\n",
        "print(arr[4:])\n",
        "#Từ đầu đến index 4 (không bao gồm cả phần tử index 4)\n",
        "print(arr[:4])"
      ],
      "metadata": {
        "colab": {
          "base_uri": "https://localhost:8080/"
        },
        "id": "J3N3xfw9dhKf",
        "outputId": "926d4bdb-1b71-4f6d-afb8-1b5094f63bd2"
      },
      "execution_count": null,
      "outputs": [
        {
          "output_type": "stream",
          "name": "stdout",
          "text": [
            "[2 3 4 5]\n",
            "[5 6 7]\n",
            "[1 2 3 4]\n"
          ]
        }
      ]
    },
    {
      "cell_type": "code",
      "source": [
        "arr = np.array([1, 2, 3, 4, 5, 6, 7])\n",
        "#Cắt mảng có sử dụng thêm bước nhảy(step)\n",
        "print(arr[1:5:2])\n",
        "print(arr[::2])"
      ],
      "metadata": {
        "colab": {
          "base_uri": "https://localhost:8080/"
        },
        "id": "fUy5ts3Of_t2",
        "outputId": "b3ede705-8109-4f40-ce5d-8d1c7d866d7c"
      },
      "execution_count": null,
      "outputs": [
        {
          "output_type": "stream",
          "name": "stdout",
          "text": [
            "[2 4]\n",
            "[1 3 5 7]\n"
          ]
        }
      ]
    },
    {
      "cell_type": "markdown",
      "source": [
        "###2-d array"
      ],
      "metadata": {
        "id": "mkPcftg1glbH"
      }
    },
    {
      "cell_type": "code",
      "source": [
        "#Cắt lấy phần tử index 2 ở cả 2 phần của mảng 2-darray\n",
        "arr = np.array([[1, 2, 3, 4, 5], [6, 7, 8, 9, 10]])\n",
        "print(arr[0:2, 2])"
      ],
      "metadata": {
        "colab": {
          "base_uri": "https://localhost:8080/"
        },
        "id": "Ev9x0FTvgPDv",
        "outputId": "59f6d197-7aaf-40c4-d5a1-573aac7c380f"
      },
      "execution_count": null,
      "outputs": [
        {
          "output_type": "stream",
          "name": "stdout",
          "text": [
            "[3 8]\n"
          ]
        }
      ]
    },
    {
      "cell_type": "code",
      "source": [
        "#Cắt lấy phần tử từ index 1 đến index 4 (không bao gồm phẩn tử index 4) ở cả 2 phần của mảng 2-darray\n",
        "arr = np.array([[1, 2, 3, 4, 5], [6, 7, 8, 9, 10]])\n",
        "print(arr[0:2, 1:4])"
      ],
      "metadata": {
        "colab": {
          "base_uri": "https://localhost:8080/"
        },
        "id": "fxUY_-XLhD-a",
        "outputId": "784cb73e-44c6-422a-9af6-8153c12d3769"
      },
      "execution_count": null,
      "outputs": [
        {
          "output_type": "stream",
          "name": "stdout",
          "text": [
            "[[2 3 4]\n",
            " [7 8 9]]\n"
          ]
        }
      ]
    },
    {
      "cell_type": "markdown",
      "source": [
        "##Kiểu dữ liệu của mảng (Data type)"
      ],
      "metadata": {
        "id": "zZUdyk_ohon-"
      }
    },
    {
      "cell_type": "markdown",
      "source": [
        "1. i - integer\n",
        "2. b - boolean\n",
        "3. u - unsigned integer\n",
        "4. f - float\n",
        "5. c - complex float\n",
        "6. m - timedelta\n",
        "7. M - datetime\n",
        "8. O - object\n",
        "9. S - string\n",
        "10. U - unicode string\n",
        "11. V - fixed chunk of memory for other type ( void )"
      ],
      "metadata": {
        "id": "kuJXlQOxkcBP"
      }
    },
    {
      "cell_type": "code",
      "source": [
        "#Xem kiểu dữ liệu của mảng\n",
        "arr = np.array([1, 2, 3, 4, 5])\n",
        "print(arr.dtype)\n",
        "arr = np.array([\"dog\", \"cat\", \"duck\", \"bird\"])\n",
        "print(arr.dtype)"
      ],
      "metadata": {
        "colab": {
          "base_uri": "https://localhost:8080/"
        },
        "id": "ZaPxClElhss-",
        "outputId": "a1adaa5b-cc08-48bc-ec75-5c117a1b71fb"
      },
      "execution_count": null,
      "outputs": [
        {
          "output_type": "stream",
          "name": "stdout",
          "text": [
            "int64\n",
            "<U4\n"
          ]
        }
      ]
    },
    {
      "cell_type": "code",
      "source": [
        "#Tạo mảng với kiểu dữ liệu mong muốn\n",
        "arr = np.array([1, 2, 3, 4], dtype='<U4')\n",
        "print(arr)\n",
        "print(arr.dtype)\n",
        "\n",
        "arr = np.array([1, 2, 3, 4], dtype='i4')\n",
        "print(arr)\n",
        "print(arr.dtype)"
      ],
      "metadata": {
        "colab": {
          "base_uri": "https://localhost:8080/"
        },
        "id": "8cWtm1OhiZS4",
        "outputId": "15d8c368-ece6-44ec-9c04-9379cd381634"
      },
      "execution_count": null,
      "outputs": [
        {
          "output_type": "stream",
          "name": "stdout",
          "text": [
            "['1' '2' '3' '4']\n",
            "<U4\n",
            "[1 2 3 4]\n",
            "int32\n"
          ]
        }
      ]
    },
    {
      "cell_type": "code",
      "source": [
        "#Chuyển mảng float thành mảng int\n",
        "arr = np.array([1.1, 2.1, 3.1])\n",
        "newarr = arr.astype(int)\n",
        "print(newarr)\n",
        "print(newarr.dtype)"
      ],
      "metadata": {
        "colab": {
          "base_uri": "https://localhost:8080/"
        },
        "id": "0z-F3Q8IjhnI",
        "outputId": "014d199a-f203-4fce-9587-9a0de0dc71aa"
      },
      "execution_count": null,
      "outputs": [
        {
          "output_type": "stream",
          "name": "stdout",
          "text": [
            "[1 2 3]\n",
            "int64\n"
          ]
        }
      ]
    },
    {
      "cell_type": "code",
      "source": [
        "#Chuyển mảng int thành mảng boolean\n",
        "arr = np.array([1, 0, 3])\n",
        "newarr = arr.astype(bool)\n",
        "print(newarr)\n",
        "print(newarr.dtype)"
      ],
      "metadata": {
        "colab": {
          "base_uri": "https://localhost:8080/"
        },
        "id": "tlHAB4czkMLO",
        "outputId": "6f3665f3-6893-4c56-9c4f-ece7ca22f87e"
      },
      "execution_count": null,
      "outputs": [
        {
          "output_type": "stream",
          "name": "stdout",
          "text": [
            "[ True False  True]\n",
            "bool\n"
          ]
        }
      ]
    },
    {
      "cell_type": "markdown",
      "source": [
        "##Hình dạng của mảng (Shape)\n"
      ],
      "metadata": {
        "id": "KyTN5D2zk2BI"
      }
    },
    {
      "cell_type": "code",
      "source": [
        "arr = np.array([[1, 2, 3, 4, 5], [6, 7, 8, 9, 10]])\n",
        "print(arr.shape)"
      ],
      "metadata": {
        "colab": {
          "base_uri": "https://localhost:8080/"
        },
        "id": "MyC5XnDTlCs2",
        "outputId": "7094adfc-7d6b-4178-9432-90b8732ea913"
      },
      "execution_count": null,
      "outputs": [
        {
          "output_type": "stream",
          "name": "stdout",
          "text": [
            "(2, 5)\n"
          ]
        }
      ]
    },
    {
      "cell_type": "code",
      "source": [
        "arr = np.array([1, 2, 3, 4], ndmin=5)\n",
        "print(arr)\n",
        "print('shape of array :', arr.shape)"
      ],
      "metadata": {
        "colab": {
          "base_uri": "https://localhost:8080/"
        },
        "id": "pd_PzsREmFNB",
        "outputId": "fc409ea5-8f65-47e6-8600-d08a6034043f"
      },
      "execution_count": null,
      "outputs": [
        {
          "output_type": "stream",
          "name": "stdout",
          "text": [
            "[[[[[1 2 3 4]]]]]\n",
            "shape of array : (1, 1, 1, 1, 4)\n"
          ]
        }
      ]
    },
    {
      "cell_type": "markdown",
      "source": [
        "##Chuyển dạng mảng (Reshape)"
      ],
      "metadata": {
        "id": "J7NBTOu6mkw_"
      }
    },
    {
      "cell_type": "code",
      "source": [
        "#Chuyển mảng 1 chiều thành mảng 2 chiều chứa 4 mảng, mỗi mảng 3 phần tử\n",
        "arr = np.array([1, 2, 3, 4, 5, 6, 7, 8, 9, 10, 11, 12])\n",
        "newarr = arr.reshape(4, 3)\n",
        "print(newarr)"
      ],
      "metadata": {
        "colab": {
          "base_uri": "https://localhost:8080/"
        },
        "id": "BO9nd3S2mqGu",
        "outputId": "47c66f49-3517-438c-9c19-d5896cb0cfe3"
      },
      "execution_count": null,
      "outputs": [
        {
          "output_type": "stream",
          "name": "stdout",
          "text": [
            "[[ 1  2  3]\n",
            " [ 4  5  6]\n",
            " [ 7  8  9]\n",
            " [10 11 12]]\n"
          ]
        }
      ]
    },
    {
      "cell_type": "code",
      "source": [
        "#Chuyển mảng 1 chiều thành mảng 3 chiều chứa 2 mảng, mỗi mảng gồm 3 mảng với 2 phần tử\n",
        "arr = np.array([1, 2, 3, 4, 5, 6, 7, 8, 9, 10, 11, 12])\n",
        "newarr = arr.reshape(2, 3, 2)\n",
        "print(newarr)"
      ],
      "metadata": {
        "colab": {
          "base_uri": "https://localhost:8080/"
        },
        "id": "h7NTcnRqnkZg",
        "outputId": "75c3a27a-1a7b-472a-f1f9-f4a84c505dc5"
      },
      "execution_count": null,
      "outputs": [
        {
          "output_type": "stream",
          "name": "stdout",
          "text": [
            "[[[ 1  2]\n",
            "  [ 3  4]\n",
            "  [ 5  6]]\n",
            "\n",
            " [[ 7  8]\n",
            "  [ 9 10]\n",
            "  [11 12]]]\n"
          ]
        }
      ]
    },
    {
      "cell_type": "markdown",
      "source": [
        "##Duyệt qua các phần tử trong mảng (Iterating)"
      ],
      "metadata": {
        "id": "B__Q4xmCoDrI"
      }
    },
    {
      "cell_type": "code",
      "source": [
        "#1-darray\n",
        "arr = np.array([1, 2, 3, 4, 5])\n",
        "for x in arr:\n",
        "  print(x)"
      ],
      "metadata": {
        "colab": {
          "base_uri": "https://localhost:8080/"
        },
        "id": "-I-z8DUQoId_",
        "outputId": "e6c47bcf-1cd9-46a6-ff9a-0477ad25e81f"
      },
      "execution_count": null,
      "outputs": [
        {
          "output_type": "stream",
          "name": "stdout",
          "text": [
            "1\n",
            "2\n",
            "3\n",
            "4\n",
            "5\n"
          ]
        }
      ]
    },
    {
      "cell_type": "code",
      "source": [
        "#2-darray\n",
        "arr = np.array([[1, 2, 3], [4, 5, 6]])\n",
        "for x in arr:\n",
        "  print(x)\n",
        "  for y in x:\n",
        "    print(y)"
      ],
      "metadata": {
        "colab": {
          "base_uri": "https://localhost:8080/"
        },
        "id": "yYgXCzLZop9Z",
        "outputId": "134ae1dd-f82b-4837-aa5f-75fd2af51407"
      },
      "execution_count": null,
      "outputs": [
        {
          "output_type": "stream",
          "name": "stdout",
          "text": [
            "[1 2 3]\n",
            "1\n",
            "2\n",
            "3\n",
            "[4 5 6]\n",
            "4\n",
            "5\n",
            "6\n"
          ]
        }
      ]
    },
    {
      "cell_type": "code",
      "source": [
        "#3-darray\n",
        "arr = np.array([[[1, 2, 3], [4, 5, 6]], [[7, 8, 9], [10, 11, 12]]])\n",
        "for x in arr:\n",
        "  print(x)\n",
        "  for y in x:\n",
        "    print(y)\n",
        "    for z in y:\n",
        "      print(z)"
      ],
      "metadata": {
        "colab": {
          "base_uri": "https://localhost:8080/"
        },
        "id": "BcQS-DQuotzg",
        "outputId": "5ed3083f-2585-4d5c-ec36-fd0cb97c3535"
      },
      "execution_count": null,
      "outputs": [
        {
          "output_type": "stream",
          "name": "stdout",
          "text": [
            "[[1 2 3]\n",
            " [4 5 6]]\n",
            "[1 2 3]\n",
            "1\n",
            "2\n",
            "3\n",
            "[4 5 6]\n",
            "4\n",
            "5\n",
            "6\n",
            "[[ 7  8  9]\n",
            " [10 11 12]]\n",
            "[7 8 9]\n",
            "7\n",
            "8\n",
            "9\n",
            "[10 11 12]\n",
            "10\n",
            "11\n",
            "12\n"
          ]
        }
      ]
    },
    {
      "cell_type": "code",
      "source": [
        "#Đối với các mảng có nhiều chiều (dimension lớn) thì việc viết các vòng lặp for sẽ gây khó khăn nên thay vào đó sử dụng nditer()\n",
        "arr = np.array([[[1, 2, 3], [4, 5, 6]], [[7, 8, 9], [10, 11, 12]]])\n",
        "for x in np.nditer(arr):\n",
        "  print(x)"
      ],
      "metadata": {
        "colab": {
          "base_uri": "https://localhost:8080/"
        },
        "id": "ZWArcOGfpVzA",
        "outputId": "b5cb6ba1-f1b9-4abb-bc38-ccf1217a3a2e"
      },
      "execution_count": null,
      "outputs": [
        {
          "output_type": "stream",
          "name": "stdout",
          "text": [
            "1\n",
            "2\n",
            "3\n",
            "4\n",
            "5\n",
            "6\n",
            "7\n",
            "8\n",
            "9\n",
            "10\n",
            "11\n",
            "12\n"
          ]
        }
      ]
    },
    {
      "cell_type": "code",
      "source": [
        "#Enumarate vừa duyệt vừa trả về vị trí của phần tử vừa duyệt qua\n",
        "arr = np.array([1, 2, 3])\n",
        "print(\"1-d array\")\n",
        "for idx, x in np.ndenumerate(arr):\n",
        "  print(idx, x)\n",
        "\n",
        "print(\"2-d array\")\n",
        "arr = np.array([[1, 2, 3], [4, 5, 6]])\n",
        "for idx, x in np.ndenumerate(arr):\n",
        "  print(idx, x)\n",
        "\n",
        "print(\"3-d array\")\n",
        "arr = np.array([[[1, 2, 3], [4, 5, 6]], [[7, 8, 9], [10, 11, 12]]])\n",
        "for idx, x in np.ndenumerate(arr):\n",
        "  print(idx, x)"
      ],
      "metadata": {
        "colab": {
          "base_uri": "https://localhost:8080/"
        },
        "id": "67MpyMBQp0jL",
        "outputId": "4a68f052-e3e5-453e-c678-1e32fcacdd9a"
      },
      "execution_count": null,
      "outputs": [
        {
          "output_type": "stream",
          "name": "stdout",
          "text": [
            "1-d array\n",
            "(0,) 1\n",
            "(1,) 2\n",
            "(2,) 3\n",
            "2-d array\n",
            "(0, 0) 1\n",
            "(0, 1) 2\n",
            "(0, 2) 3\n",
            "(1, 0) 4\n",
            "(1, 1) 5\n",
            "(1, 2) 6\n",
            "3-d array\n",
            "(0, 0, 0) 1\n",
            "(0, 0, 1) 2\n",
            "(0, 0, 2) 3\n",
            "(0, 1, 0) 4\n",
            "(0, 1, 1) 5\n",
            "(0, 1, 2) 6\n",
            "(1, 0, 0) 7\n",
            "(1, 0, 1) 8\n",
            "(1, 0, 2) 9\n",
            "(1, 1, 0) 10\n",
            "(1, 1, 1) 11\n",
            "(1, 1, 2) 12\n"
          ]
        }
      ]
    },
    {
      "cell_type": "markdown",
      "source": [
        "##Ghép mảng (Concatenate)"
      ],
      "metadata": {
        "id": "DOIqK9YFqgQn"
      }
    },
    {
      "cell_type": "code",
      "source": [
        "arr1 = np.array([1, 2, 3])\n",
        "arr2 = np.array([4, 5, 6])\n",
        "arr = np.concatenate((arr1, arr2))\n",
        "print(arr)"
      ],
      "metadata": {
        "colab": {
          "base_uri": "https://localhost:8080/"
        },
        "id": "b_00RXMQqmK3",
        "outputId": "a710551d-3cb6-47c2-ebda-8a3a6cc8790e"
      },
      "execution_count": null,
      "outputs": [
        {
          "output_type": "stream",
          "name": "stdout",
          "text": [
            "[1 2 3 4 5 6]\n"
          ]
        }
      ]
    },
    {
      "cell_type": "code",
      "source": [
        "arr1 = np.array([[1, 2], [3, 4]])\n",
        "arr2 = np.array([[5, 6], [7, 8]])\n",
        "#Ghép 2 mảng arr1 và arr2 thành mảng arr gồm 4 mảng mỗi mảng 2 phần tử\n",
        "arr = np.concatenate((arr1, arr2), axis=0)\n",
        "print(arr)\n",
        "#Ghép 2 mảng arr1 và arr2 thành mảng arr gồm 2 mảng mỗi mảng 4 phần tử\n",
        "arr = np.concatenate((arr1, arr2), axis=1)\n",
        "print(arr)"
      ],
      "metadata": {
        "colab": {
          "base_uri": "https://localhost:8080/"
        },
        "id": "7BLYHr77q3-q",
        "outputId": "60ad1418-5f87-4a35-8d6e-3c26dae376bf"
      },
      "execution_count": null,
      "outputs": [
        {
          "output_type": "stream",
          "name": "stdout",
          "text": [
            "[[1 2]\n",
            " [3 4]\n",
            " [5 6]\n",
            " [7 8]]\n",
            "[[1 2 5 6]\n",
            " [3 4 7 8]]\n"
          ]
        }
      ]
    },
    {
      "cell_type": "code",
      "source": [
        "#Hàm stack() xếp chồng theo index của mỗi mảng\n",
        "arr1 = np.array([1, 2, 3])\n",
        "arr2 = np.array([4, 5, 6])\n",
        "arr = np.stack((arr1, arr2), axis=1)\n",
        "print(arr)"
      ],
      "metadata": {
        "colab": {
          "base_uri": "https://localhost:8080/"
        },
        "id": "zE12oYtkrfqL",
        "outputId": "c73707d4-7227-4287-e84f-7798789cf43b"
      },
      "execution_count": null,
      "outputs": [
        {
          "output_type": "stream",
          "name": "stdout",
          "text": [
            "[[1 4]\n",
            " [2 5]\n",
            " [3 6]]\n"
          ]
        }
      ]
    },
    {
      "cell_type": "code",
      "source": [
        "#Hàm hstack() xếp chồng theo hàng\n",
        "arr1 = np.array([1, 2, 3])\n",
        "arr2 = np.array([4, 5, 6])\n",
        "arr = np.hstack((arr1, arr2))\n",
        "print(arr)"
      ],
      "metadata": {
        "colab": {
          "base_uri": "https://localhost:8080/"
        },
        "id": "yojHbJ4or0k5",
        "outputId": "18411e1f-26d6-4fb2-db31-a1b694144cbe"
      },
      "execution_count": null,
      "outputs": [
        {
          "output_type": "stream",
          "name": "stdout",
          "text": [
            "[1 2 3 4 5 6]\n"
          ]
        }
      ]
    },
    {
      "cell_type": "code",
      "source": [
        "#Hàm vstack() xếp chồng theo cột\n",
        "arr1 = np.array([1, 2, 3])\n",
        "arr2 = np.array([4, 5, 6])\n",
        "arr = np.vstack((arr1, arr2))\n",
        "print(arr)"
      ],
      "metadata": {
        "colab": {
          "base_uri": "https://localhost:8080/"
        },
        "id": "9_HgrdsLsNzx",
        "outputId": "c5774acb-bbe6-49ac-dd40-f401f0e50c4e"
      },
      "execution_count": null,
      "outputs": [
        {
          "output_type": "stream",
          "name": "stdout",
          "text": [
            "[[1 2 3]\n",
            " [4 5 6]]\n"
          ]
        }
      ]
    },
    {
      "cell_type": "code",
      "source": [
        "#Hàm dstack() xếp chồng theo chiều cao/chiều sâu\n",
        "arr1 = np.array([1, 2, 3])\n",
        "arr2 = np.array([4, 5, 6])\n",
        "arr = np.dstack((arr1, arr2))\n",
        "print(arr)"
      ],
      "metadata": {
        "colab": {
          "base_uri": "https://localhost:8080/"
        },
        "id": "lbXg9uPkslT-",
        "outputId": "afc04a25-dd6c-4f3b-c3f4-16b18ff26a03"
      },
      "execution_count": null,
      "outputs": [
        {
          "output_type": "stream",
          "name": "stdout",
          "text": [
            "[[[1 4]\n",
            "  [2 5]\n",
            "  [3 6]]]\n"
          ]
        }
      ]
    },
    {
      "cell_type": "markdown",
      "source": [
        "##Chia mảng (Split)"
      ],
      "metadata": {
        "id": "YbMfb6KxtJIm"
      }
    },
    {
      "cell_type": "markdown",
      "source": [
        "###1-d array"
      ],
      "metadata": {
        "id": "CORDXYrbu-4w"
      }
    },
    {
      "cell_type": "code",
      "source": [
        "#Chia mảng thành 3 phần (mảng được chia có số phần tử đủ để chia thành các mảng con với số lượng như nhau)\n",
        "arr = np.array([1, 2, 3, 4, 5, 6])\n",
        "newarr = np.split(arr, 3)\n",
        "print(newarr)"
      ],
      "metadata": {
        "colab": {
          "base_uri": "https://localhost:8080/"
        },
        "id": "_ZAHNhMptLW-",
        "outputId": "e1bdbb65-2c99-48ad-c9d7-17723c7f84f8"
      },
      "execution_count": null,
      "outputs": [
        {
          "output_type": "stream",
          "name": "stdout",
          "text": [
            "[array([1, 2]), array([3, 4]), array([5, 6])]\n"
          ]
        }
      ]
    },
    {
      "cell_type": "code",
      "source": [
        "#Chia mảng thành 4 phần (mảng được chia có số phần tử không đủ để chia, array_split() sẽ tự điều chỉnh số lượng phần tử, trường hợp này dùng split sẽ lỗi)\n",
        "arr = np.array([1, 2, 3, 4, 5, 6])\n",
        "newarr = np.array_split(arr, 4)\n",
        "print(newarr)"
      ],
      "metadata": {
        "colab": {
          "base_uri": "https://localhost:8080/"
        },
        "id": "wkw1z-tUt3bH",
        "outputId": "fa4d68a0-d321-4c0c-c6f4-496c82c5baa2"
      },
      "execution_count": null,
      "outputs": [
        {
          "output_type": "stream",
          "name": "stdout",
          "text": [
            "[array([1, 2]), array([3, 4]), array([5]), array([6])]\n"
          ]
        }
      ]
    },
    {
      "cell_type": "code",
      "source": [
        "#Giá trị trả về của split hay array_split sẽ là n mảng con\n",
        "arr = np.array([1, 2, 3, 4, 5, 6])\n",
        "newarr = np.split(arr, 3)\n",
        "print(newarr[0])\n",
        "print(newarr[1])\n",
        "print(newarr[2])"
      ],
      "metadata": {
        "colab": {
          "base_uri": "https://localhost:8080/"
        },
        "id": "ooS7rM1Sutv4",
        "outputId": "9899197c-bdf2-4e3f-ae19-5ffca53973fa"
      },
      "execution_count": null,
      "outputs": [
        {
          "output_type": "stream",
          "name": "stdout",
          "text": [
            "[1 2]\n",
            "[3 4]\n",
            "[5 6]\n"
          ]
        }
      ]
    },
    {
      "cell_type": "markdown",
      "source": [
        "###2-d array"
      ],
      "metadata": {
        "id": "pGSVE36cvCR6"
      }
    },
    {
      "cell_type": "code",
      "source": [
        "#Chia mảng 2-d thành 3 mảng con\n",
        "arr = np.array([[1, 2], [3, 4], [5, 6], [7, 8], [9, 10], [11, 12]])\n",
        "newarr = np.split(arr, 3)\n",
        "\n",
        "print(newarr[0])\n",
        "print(newarr[1])\n",
        "print(newarr[2])"
      ],
      "metadata": {
        "colab": {
          "base_uri": "https://localhost:8080/"
        },
        "id": "5tLnEZEgvMfY",
        "outputId": "751160d0-55e2-4a9c-e408-3c4246f10abb"
      },
      "execution_count": null,
      "outputs": [
        {
          "output_type": "stream",
          "name": "stdout",
          "text": [
            "[[1 2]\n",
            " [3 4]]\n",
            "[[5 6]\n",
            " [7 8]]\n",
            "[[ 9 10]\n",
            " [11 12]]\n"
          ]
        }
      ]
    },
    {
      "cell_type": "code",
      "source": [
        "#Chia mảng theo hàng\n",
        "arr = np.array([[1, 2, 3], [4, 5, 6], [7, 8, 9], [10, 11, 12], [13, 14, 15], [16, 17, 18]])\n",
        "newarr = np.array_split(arr, 3, axis=1)\n",
        "\n",
        "print(newarr[0])\n",
        "print(newarr[1])\n",
        "print(newarr[2])\n",
        "#Tương tự có hàm hsplit()\n",
        "newarr2 = np.hsplit(arr, 3)\n",
        "# print(newarr2[0])\n",
        "# print(newarr2[1])\n",
        "# print(newarr2[2])"
      ],
      "metadata": {
        "colab": {
          "base_uri": "https://localhost:8080/"
        },
        "id": "Mw16SUcJvmXA",
        "outputId": "ceae9615-3847-4c5c-f808-a6f0df71becd"
      },
      "execution_count": null,
      "outputs": [
        {
          "output_type": "stream",
          "name": "stdout",
          "text": [
            "[[ 1]\n",
            " [ 4]\n",
            " [ 7]\n",
            " [10]\n",
            " [13]\n",
            " [16]]\n",
            "[[ 2]\n",
            " [ 5]\n",
            " [ 8]\n",
            " [11]\n",
            " [14]\n",
            " [17]]\n",
            "[[ 3]\n",
            " [ 6]\n",
            " [ 9]\n",
            " [12]\n",
            " [15]\n",
            " [18]]\n"
          ]
        }
      ]
    },
    {
      "cell_type": "code",
      "source": [
        "#Chia mảng theo cột\n",
        "arr = np.array([[1, 2, 3], [4, 5, 6], [7, 8, 9], [10, 11, 12], [13, 14, 15], [16, 17, 18]])\n",
        "newarr = np.array_split(arr, 3, axis=0)\n",
        "\n",
        "print(newarr[0])\n",
        "print(newarr[1])\n",
        "print(newarr[2])"
      ],
      "metadata": {
        "colab": {
          "base_uri": "https://localhost:8080/"
        },
        "id": "eCr6s3fkv5Xv",
        "outputId": "eff9e5bc-290c-4444-a388-bc80e60b15e3"
      },
      "execution_count": null,
      "outputs": [
        {
          "output_type": "stream",
          "name": "stdout",
          "text": [
            "[[1 2 3]\n",
            " [4 5 6]]\n",
            "[[ 7  8  9]\n",
            " [10 11 12]]\n",
            "[[13 14 15]\n",
            " [16 17 18]]\n"
          ]
        }
      ]
    },
    {
      "cell_type": "markdown",
      "source": [
        "##Tìm kiếm trong mảng (Search)"
      ],
      "metadata": {
        "id": "twE4LhrIwgu5"
      }
    },
    {
      "cell_type": "code",
      "source": [
        "#Trả về vị trí của phần tử có giá trị cần tìm\n",
        "arr = np.array([1, 2, 3, 4, 5])\n",
        "\n",
        "x = np.where(arr == 5)\n",
        "print(x)"
      ],
      "metadata": {
        "colab": {
          "base_uri": "https://localhost:8080/"
        },
        "id": "ZAogsjShwlGX",
        "outputId": "abf6c6c5-1879-463c-eb84-b55f876c6eac"
      },
      "execution_count": null,
      "outputs": [
        {
          "output_type": "stream",
          "name": "stdout",
          "text": [
            "(array([4]),)\n"
          ]
        }
      ]
    },
    {
      "cell_type": "code",
      "source": [
        "#Trả về index của phần tử chẵn trong mảng\n",
        "arr = np.array([1, 2, 3, 4, 5, 6, 7, 8])\n",
        "x = np.where(arr%2 == 0)\n",
        "print(x)"
      ],
      "metadata": {
        "colab": {
          "base_uri": "https://localhost:8080/"
        },
        "id": "BVRkAKSgxZ1K",
        "outputId": "433c7f4f-3254-4dc7-f63c-c34eab28e2ff"
      },
      "execution_count": null,
      "outputs": [
        {
          "output_type": "stream",
          "name": "stdout",
          "text": [
            "(array([1, 3, 5, 7]),)\n"
          ]
        }
      ]
    },
    {
      "cell_type": "code",
      "source": [
        "#Trả về index của phần tử lẻ trong mảng\n",
        "arr = np.array([1, 2, 3, 4, 5, 6, 7, 8])\n",
        "x = np.where(arr%2 == 1)\n",
        "print(x)"
      ],
      "metadata": {
        "colab": {
          "base_uri": "https://localhost:8080/"
        },
        "id": "606M0oO7xxbb",
        "outputId": "bae1f753-1478-47bc-c1f7-40e0d6d8f604"
      },
      "execution_count": null,
      "outputs": [
        {
          "output_type": "stream",
          "name": "stdout",
          "text": [
            "(array([0, 2, 4, 6]),)\n"
          ]
        }
      ]
    },
    {
      "cell_type": "code",
      "source": [
        "#Sắp xếp lại mảng sau đó chèn giá trị truyền vào của hàm, duyệt từ trái sang\n",
        "arr = np.array([6, 5, 6, 7, 5, 4])\n",
        "x = np.searchsorted(arr, 8)\n",
        "print(x)"
      ],
      "metadata": {
        "colab": {
          "base_uri": "https://localhost:8080/"
        },
        "id": "NfcX3Eaayt7a",
        "outputId": "760e37a5-d27e-4902-cd56-51a96e142c36"
      },
      "execution_count": null,
      "outputs": [
        {
          "output_type": "stream",
          "name": "stdout",
          "text": [
            "6\n"
          ]
        }
      ]
    },
    {
      "cell_type": "code",
      "source": [
        "#Sắp xếp lại mảng sau đó chèn giá trị truyền vào của hàm, duyệt từ phải sang\n",
        "arr = np.array([6, 7, 8, 8, 9])\n",
        "x = np.searchsorted(arr, 8, side='right')\n",
        "print(x)"
      ],
      "metadata": {
        "colab": {
          "base_uri": "https://localhost:8080/"
        },
        "id": "P1s9vhcYzZ2T",
        "outputId": "e1f70cdc-f898-483e-b8a7-4b850b59bc5e"
      },
      "execution_count": null,
      "outputs": [
        {
          "output_type": "stream",
          "name": "stdout",
          "text": [
            "4\n"
          ]
        }
      ]
    },
    {
      "cell_type": "markdown",
      "source": [
        "##Sắp xếp mảng (Sort)"
      ],
      "metadata": {
        "id": "E0nQn9Bj2lhI"
      }
    },
    {
      "cell_type": "markdown",
      "source": [
        "###1-d array"
      ],
      "metadata": {
        "id": "ozw_7f1p36YR"
      }
    },
    {
      "cell_type": "code",
      "source": [
        "#Hàm sort() sắp xếp lại mảng int theo giá trị từ bé đến lớn \n",
        "arr = np.array([3, 2, 0, 1])\n",
        "print(np.sort(arr))"
      ],
      "metadata": {
        "colab": {
          "base_uri": "https://localhost:8080/"
        },
        "id": "241cb8GS2uOf",
        "outputId": "23e9174b-7d67-4750-87f8-dafb6e107111"
      },
      "execution_count": null,
      "outputs": [
        {
          "output_type": "stream",
          "name": "stdout",
          "text": [
            "[0 1 2 3]\n"
          ]
        }
      ]
    },
    {
      "cell_type": "code",
      "source": [
        "#Hàm sort() sắp xếp lại mảng string theo alphabelt \n",
        "arr = np.array(['banana', 'cherry', 'apple'])\n",
        "print(np.sort(arr))"
      ],
      "metadata": {
        "colab": {
          "base_uri": "https://localhost:8080/"
        },
        "id": "Iljm3A3e3A3p",
        "outputId": "d5b7e277-72c6-47ce-f01c-e43b2af69155"
      },
      "execution_count": null,
      "outputs": [
        {
          "output_type": "stream",
          "name": "stdout",
          "text": [
            "['apple' 'banana' 'cherry']\n"
          ]
        }
      ]
    },
    {
      "cell_type": "code",
      "source": [
        "#Hàm sort() sắp xếp lại mảng bolean false trước, true sau\n",
        "arr = np.array([True, False, True, False])\n",
        "print(np.sort(arr))"
      ],
      "metadata": {
        "colab": {
          "base_uri": "https://localhost:8080/"
        },
        "id": "ZepjtfFg3ThK",
        "outputId": "9dd90a84-1b4e-4c30-cea9-3c73dd05dbff"
      },
      "execution_count": null,
      "outputs": [
        {
          "output_type": "stream",
          "name": "stdout",
          "text": [
            "[False False  True  True]\n"
          ]
        }
      ]
    },
    {
      "cell_type": "markdown",
      "source": [
        "###2-d array"
      ],
      "metadata": {
        "id": "4RMlf6jb3-9T"
      }
    },
    {
      "cell_type": "code",
      "source": [
        "arr = np.array([[3, 2, 4], [5, 0, 1]])\n",
        "print(np.sort(arr))"
      ],
      "metadata": {
        "colab": {
          "base_uri": "https://localhost:8080/"
        },
        "id": "k6kWnQSl34YX",
        "outputId": "a7460ac3-0485-486f-c1c1-5bac61326258"
      },
      "execution_count": null,
      "outputs": [
        {
          "output_type": "stream",
          "name": "stdout",
          "text": [
            "[[2 3 4]\n",
            " [0 1 5]]\n"
          ]
        }
      ]
    },
    {
      "cell_type": "code",
      "source": [
        "arr = np.array([['banana', 'cherry', 'apple'], ['mango', 'pear', 'coconut']])\n",
        "print(np.sort(arr))"
      ],
      "metadata": {
        "colab": {
          "base_uri": "https://localhost:8080/"
        },
        "id": "YwoFgLlc4FjQ",
        "outputId": "049be141-0a78-4f31-b389-86e15eb15aea"
      },
      "execution_count": null,
      "outputs": [
        {
          "output_type": "stream",
          "name": "stdout",
          "text": [
            "[['apple' 'banana' 'cherry']\n",
            " ['coconut' 'mango' 'pear']]\n"
          ]
        }
      ]
    },
    {
      "cell_type": "markdown",
      "source": [
        "###3-d array"
      ],
      "metadata": {
        "id": "GGbLWeO14fsl"
      }
    },
    {
      "cell_type": "code",
      "source": [
        "arr = np.array([[[8, 1, 4], [2, 2, 1]], [[3, 9, 4], [1, 2, 1]]])\n",
        "print(np.sort(arr))"
      ],
      "metadata": {
        "colab": {
          "base_uri": "https://localhost:8080/"
        },
        "id": "jDEeagaC4xbA",
        "outputId": "be380c68-fa7c-4fd5-b724-4f42380a9b31"
      },
      "execution_count": null,
      "outputs": [
        {
          "output_type": "stream",
          "name": "stdout",
          "text": [
            "[[[1 4 8]\n",
            "  [1 2 2]]\n",
            "\n",
            " [[3 4 9]\n",
            "  [1 1 2]]]\n"
          ]
        }
      ]
    },
    {
      "cell_type": "code",
      "source": [
        "arr = np.array([[['banana', 'cherry', 'apple'], ['mango', 'pear', 'coconut']], [['banana', 'cherry', 'apple'], ['mango', 'pear', 'coconut']]])\n",
        "print(np.sort(arr))"
      ],
      "metadata": {
        "colab": {
          "base_uri": "https://localhost:8080/"
        },
        "id": "SC7vioZd4Ytg",
        "outputId": "58bd4bf2-089e-4f09-99ec-0ba8f3847f64"
      },
      "execution_count": null,
      "outputs": [
        {
          "output_type": "stream",
          "name": "stdout",
          "text": [
            "[[['apple' 'banana' 'cherry']\n",
            "  ['coconut' 'mango' 'pear']]\n",
            "\n",
            " [['apple' 'banana' 'cherry']\n",
            "  ['coconut' 'mango' 'pear']]]\n"
          ]
        }
      ]
    },
    {
      "cell_type": "markdown",
      "source": [
        "##Lọc dữ liệu trong mảng (Filter)"
      ],
      "metadata": {
        "id": "B0Alh5h05FkH"
      }
    },
    {
      "cell_type": "code",
      "source": [
        "#Phần tử trong mảng có index là True thì phần tử đó được liệt vào mảng đã lọc\n",
        "arr = np.array([1, 2, 3, 4, 5])\n",
        "x = [True, False, True, False, True]\n",
        "newarr = arr[x]\n",
        "print(newarr)"
      ],
      "metadata": {
        "colab": {
          "base_uri": "https://localhost:8080/"
        },
        "id": "uYC2eewI5IyT",
        "outputId": "0b017592-243c-4c0d-9b22-b0e127a513bf"
      },
      "execution_count": null,
      "outputs": [
        {
          "output_type": "stream",
          "name": "stdout",
          "text": [
            "[1 3 5]\n"
          ]
        }
      ]
    },
    {
      "cell_type": "code",
      "source": [
        "#Ví dụ lấy những phần tử chẵn trong mảng\n",
        "arr = np.array([1, 2, 3, 4, 5, 6, 7, 8, 9, 10, 11, 12])\n",
        "filter_arr = []\n",
        "for element in arr:\n",
        "  if element %2 ==0:\n",
        "    filter_arr.append(True)\n",
        "  else:\n",
        "    filter_arr.append(False)\n",
        "newarr = arr[filter_arr]\n",
        "print(newarr)"
      ],
      "metadata": {
        "colab": {
          "base_uri": "https://localhost:8080/"
        },
        "id": "Xyyc3EYb5yiy",
        "outputId": "36c05c27-ee15-4ba0-8ec2-60f2c8b92702"
      },
      "execution_count": null,
      "outputs": [
        {
          "output_type": "stream",
          "name": "stdout",
          "text": [
            "[ 2  4  6  8 10 12]\n"
          ]
        }
      ]
    },
    {
      "cell_type": "code",
      "source": [
        "#Lấy những phần tử chẵn trong mảng (Cách 2)\n",
        "arr = np.array([1, 2, 3, 4, 5, 6, 7, 8, 9, 10, 11, 12])\n",
        "filter_arr = arr %2 == 0\n",
        "newarr = arr[filter_arr]\n",
        "print(newarr)"
      ],
      "metadata": {
        "colab": {
          "base_uri": "https://localhost:8080/"
        },
        "id": "TUIPFfTJ6PWx",
        "outputId": "b20f330d-4343-4282-80ae-6c91a0efc4a5"
      },
      "execution_count": null,
      "outputs": [
        {
          "output_type": "stream",
          "name": "stdout",
          "text": [
            "[ 2  4  6  8 10 12]\n"
          ]
        }
      ]
    },
    {
      "cell_type": "markdown",
      "source": [
        "##Xử lí chuỗi (String operations)\n",
        "\n"
      ],
      "metadata": {
        "id": "TDIUk9xP8WBJ"
      }
    },
    {
      "cell_type": "code",
      "source": [
        "#Hàm lower in thường tất cả phần tử trong mảng\n",
        "print(np.char.lower(['BANANA', 'APPLE', 'COCONUT']))"
      ],
      "metadata": {
        "colab": {
          "base_uri": "https://localhost:8080/"
        },
        "id": "-tFV7MXt8bQp",
        "outputId": "eda6388a-48d8-4074-e82f-336169ced4a5"
      },
      "execution_count": null,
      "outputs": [
        {
          "output_type": "stream",
          "name": "stdout",
          "text": [
            "['banana' 'apple' 'coconut']\n"
          ]
        }
      ]
    },
    {
      "cell_type": "code",
      "source": [
        "#Hàm inumeric trả về True nếu phần tử là số\n",
        "print(np.char.isnumeric(['Apple', 1]))"
      ],
      "metadata": {
        "colab": {
          "base_uri": "https://localhost:8080/"
        },
        "id": "gO601iXY9VJY",
        "outputId": "33706ba6-d107-4a08-8fbf-6a1cb50fc9b3"
      },
      "execution_count": null,
      "outputs": [
        {
          "output_type": "stream",
          "name": "stdout",
          "text": [
            "[False  True]\n"
          ]
        }
      ]
    },
    {
      "cell_type": "code",
      "source": [
        "#Hàm isalpha trả về True nếu phần tử là chữ\n",
        "print(np.char.isalpha(['Apple', 1]))"
      ],
      "metadata": {
        "colab": {
          "base_uri": "https://localhost:8080/"
        },
        "id": "mHa2Lz9W-hcg",
        "outputId": "6e8461fc-e617-41db-f79b-6bff6b59d77b"
      },
      "execution_count": null,
      "outputs": [
        {
          "output_type": "stream",
          "name": "stdout",
          "text": [
            "[ True False]\n"
          ]
        }
      ]
    },
    {
      "cell_type": "code",
      "source": [
        "#Hàm isupper trả về True nếu phần tử in hoa\n",
        "print(np.char.isupper(['APPLE', 'banana']))"
      ],
      "metadata": {
        "colab": {
          "base_uri": "https://localhost:8080/"
        },
        "id": "AP_AURzM98PP",
        "outputId": "3320f1e9-b8c1-4ef5-d63e-2aad7eda8319"
      },
      "execution_count": null,
      "outputs": [
        {
          "output_type": "stream",
          "name": "stdout",
          "text": [
            "[ True False]\n"
          ]
        }
      ]
    },
    {
      "cell_type": "markdown",
      "source": [
        "##Đếm trong mảng (Count)\n"
      ],
      "metadata": {
        "id": "P_3P2jQH--tg"
      }
    },
    {
      "cell_type": "code",
      "source": [
        "#Hàm count_nonzero trả về số lượng phần tử trong mảng khác 0\n",
        "a = np.count_nonzero([[0,1,7,0,0],[3,0,0,2,19]])\n",
        "print(a)"
      ],
      "metadata": {
        "colab": {
          "base_uri": "https://localhost:8080/"
        },
        "id": "Ar0GFrCy_LFa",
        "outputId": "ac7b5b5a-4e2e-4022-c748-ab3bbb5f4c93"
      },
      "execution_count": null,
      "outputs": [
        {
          "output_type": "stream",
          "name": "stdout",
          "text": [
            "5\n"
          ]
        }
      ]
    },
    {
      "cell_type": "code",
      "source": [
        "#Hàm argmax() trả về index của giá trị lớn nhất trong mảng\n",
        "a = np.array([1, 2, 3, 4, 5, 6, 7, 8, 9])\n",
        "print(a)\n",
        "np.argmax(a)"
      ],
      "metadata": {
        "colab": {
          "base_uri": "https://localhost:8080/"
        },
        "id": "LtAg-x4IA--w",
        "outputId": "7cae87bf-71e9-4d45-851d-16e91989532d"
      },
      "execution_count": null,
      "outputs": [
        {
          "output_type": "stream",
          "name": "stdout",
          "text": [
            "[1 2 3 4 5 6 7 8 9]\n"
          ]
        },
        {
          "output_type": "execute_result",
          "data": {
            "text/plain": [
              "8"
            ]
          },
          "metadata": {},
          "execution_count": 282
        }
      ]
    },
    {
      "cell_type": "code",
      "source": [
        "#Hàm argmin() trả về index của giá trị lớn nhất trong mảng\n",
        "a = np.array([1, 2, 3, 4, 5, 6, 7, 8, 9])\n",
        "print(a)\n",
        "np.argmin(a)"
      ],
      "metadata": {
        "colab": {
          "base_uri": "https://localhost:8080/"
        },
        "id": "O5lXDqlrCfII",
        "outputId": "e6d7521b-a0ca-4f91-b2b9-5c6bc2611887"
      },
      "execution_count": null,
      "outputs": [
        {
          "output_type": "stream",
          "name": "stdout",
          "text": [
            "[1 2 3 4 5 6 7 8 9]\n"
          ]
        },
        {
          "output_type": "execute_result",
          "data": {
            "text/plain": [
              "0"
            ]
          },
          "metadata": {},
          "execution_count": 280
        }
      ]
    },
    {
      "cell_type": "code",
      "source": [
        "#hàm amin() trả về phần tử nhỏ nhất trong mảng\n",
        "a = [11, 22, 33, 44, 55, 66, 77, 88, 99, 111]\n",
        "print(np.amin(a))"
      ],
      "metadata": {
        "colab": {
          "base_uri": "https://localhost:8080/"
        },
        "id": "IOO1ZVcsHtzi",
        "outputId": "1016b207-a43b-4458-f436-447bd8651e4a"
      },
      "execution_count": null,
      "outputs": [
        {
          "output_type": "stream",
          "name": "stdout",
          "text": [
            "11\n"
          ]
        }
      ]
    },
    {
      "cell_type": "code",
      "source": [
        "#hàm amax() trả về phần tử lớn nhất trong mảng\n",
        "a = [11, 22, 33, 44, 55, 66, 77, 88, 99, 111]\n",
        "print(np.amax(a))"
      ],
      "metadata": {
        "colab": {
          "base_uri": "https://localhost:8080/"
        },
        "id": "Iam2_3d3H_s5",
        "outputId": "9d5c9e97-016e-482c-c1e7-f022b62fd8b9"
      },
      "execution_count": null,
      "outputs": [
        {
          "output_type": "stream",
          "name": "stdout",
          "text": [
            "111\n"
          ]
        }
      ]
    },
    {
      "cell_type": "code",
      "source": [
        "#Hàm ptp() trả về hiệu số giữa phần tử lớn nhất và phần tử nhỏ nhất trong mảng\n",
        "a = [11, 22, 33, 44, 55, 66, 77, 88, 99, 111]\n",
        "print(np.ptp(a))"
      ],
      "metadata": {
        "colab": {
          "base_uri": "https://localhost:8080/"
        },
        "id": "8J0Q-JmcIFUY",
        "outputId": "1b2c6961-d2e4-4f66-a4de-2714fc6391bf"
      },
      "execution_count": null,
      "outputs": [
        {
          "output_type": "stream",
          "name": "stdout",
          "text": [
            "100\n"
          ]
        }
      ]
    },
    {
      "cell_type": "code",
      "source": [
        "#Hàm mean() trả về giá trị trung bình của mảng\n",
        "a = [11, 22, 33, 44, 55, 66, 77, 88, 99, 111]\n",
        "print(np.mean(a))"
      ],
      "metadata": {
        "colab": {
          "base_uri": "https://localhost:8080/"
        },
        "id": "nMuT7IzZIXfJ",
        "outputId": "46b2c561-e423-4975-d2f8-907cfa02e75c"
      },
      "execution_count": null,
      "outputs": [
        {
          "output_type": "stream",
          "name": "stdout",
          "text": [
            "60.6\n"
          ]
        }
      ]
    },
    {
      "cell_type": "code",
      "source": [
        "#Hàm median() trả về trung vị của mảng\n",
        "a = [11, 22, 33, 44, 55, 66, 77, 88, 99, 111]\n",
        "print(np.median(a))"
      ],
      "metadata": {
        "colab": {
          "base_uri": "https://localhost:8080/"
        },
        "id": "plgYPhtqIfdp",
        "outputId": "e68882d8-2892-4896-e34f-9777d175651f"
      },
      "execution_count": null,
      "outputs": [
        {
          "output_type": "stream",
          "name": "stdout",
          "text": [
            "60.5\n"
          ]
        }
      ]
    },
    {
      "cell_type": "markdown",
      "source": [
        "#Tài liệu tham khảo"
      ],
      "metadata": {
        "id": "5G8IcfoCw1jH"
      }
    },
    {
      "cell_type": "markdown",
      "source": [
        "https://numpy.org/doc/stable/numpy-user.pdf\n",
        "\n",
        "https://www.geeksforgeeks.org/python-numpy/\n",
        "\n",
        "https://www.w3schools.com/python/numpy/default.asp"
      ],
      "metadata": {
        "id": "VbXXQa5sw45v"
      }
    }
  ]
}